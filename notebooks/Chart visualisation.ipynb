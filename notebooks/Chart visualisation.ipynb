{
 "cells": [
  {
   "cell_type": "markdown",
   "id": "1371c78d-fca3-486d-9fe9-e16dc481f3ee",
   "metadata": {},
   "source": [
    "**Sentiments in graphs**\n",
    "\n",
    "Simple visualisations of the data obtained are shown below.\n",
    "\n",
    "**Setup**"
   ]
  },
  {
   "cell_type": "code",
   "execution_count": null,
   "id": "b858ffb0-c57d-4bc4-9a0f-7cc44ac03cd8",
   "metadata": {},
   "outputs": [],
   "source": [
    "!pip install pandas"
   ]
  },
  {
   "cell_type": "code",
   "execution_count": null,
   "id": "0c1ea114-b8b8-43fb-9790-eb06c3a044c4",
   "metadata": {},
   "outputs": [],
   "source": [
    "!pip install matplotlib"
   ]
  },
  {
   "cell_type": "markdown",
   "id": "ed5a2901-ec74-4e2e-a63b-7b07ac902066",
   "metadata": {},
   "source": [
    "**Chart visualisation**"
   ]
  },
  {
   "cell_type": "code",
   "execution_count": 3,
   "id": "e6b18f2c-1c40-4baf-82fa-5440cbe184e6",
   "metadata": {},
   "outputs": [
    {
     "data": {
      "text/plain": [
       "Index(['Unnamed: 0', 'id', 'latitud', 'longitud', 'autor', 'barrio', 'verso',\n",
       "       'direccion', 'sentiment'],\n",
       "      dtype='object')"
      ]
     },
     "execution_count": 3,
     "metadata": {},
     "output_type": "execute_result"
    }
   ],
   "source": [
    "import pandas as pd\n",
    "\n",
    "versos_al_paso_sentiment_file_path = './output/versosalpaso_sentiment_text-davinci-003.csv'\n",
    "versos_al_paso_sentiment = pd.read_csv(versos_al_paso_sentiment_file_path, sep=\";\", encoding='utf-8')\n",
    "versos_al_paso_sentiment.columns"
   ]
  },
  {
   "cell_type": "markdown",
   "id": "a80e7d5a-6380-4090-adaa-b815136e4df6",
   "metadata": {},
   "source": [
    "Check that all sentences have a sentiment associated with it "
   ]
  },
  {
   "cell_type": "code",
   "execution_count": 4,
   "id": "0daa37d6-49b5-4311-88a3-b9a84ed2f443",
   "metadata": {},
   "outputs": [],
   "source": [
    "import unittest\n",
    "\n",
    "versos_nan = versos_al_paso_sentiment[versos_al_paso_sentiment.sentiment.isna()].verso.tolist()\n",
    "\n",
    "tc = unittest.TestCase()\n",
    "tc.assertListEqual([], versos_nan)"
   ]
  },
  {
   "cell_type": "markdown",
   "id": "924c5bc0-300e-457a-8485-670680dbcf05",
   "metadata": {},
   "source": [
    "**A pie chart for sentiment values**"
   ]
  },
  {
   "cell_type": "code",
   "execution_count": 5,
   "id": "08d7af51-12fc-415d-8a08-ed65379db48c",
   "metadata": {},
   "outputs": [
    {
     "data": {
      "text/plain": [
       "sentiment\n",
       "negative      18\n",
       "neutral       56\n",
       "positive    1026\n",
       "Name: sentiment, dtype: int64"
      ]
     },
     "execution_count": 5,
     "metadata": {},
     "output_type": "execute_result"
    }
   ],
   "source": [
    "df = versos_al_paso_sentiment.groupby(['sentiment'])['sentiment'].count()\n",
    "df"
   ]
  },
  {
   "cell_type": "markdown",
   "id": "6cdbc265-5342-40d2-95e6-7d46bd390ae2",
   "metadata": {},
   "source": [
    "List of negative sentences"
   ]
  },
  {
   "cell_type": "code",
   "execution_count": 6,
   "id": "db02d6f2-f583-4ceb-97c9-53b04341e952",
   "metadata": {},
   "outputs": [
    {
     "data": {
      "text/plain": [
       "['La política tiene colgado el cartel de rebajas',\n",
       " 'Peladitos ven TV y quieren ser así, están aprendiendo a matar antes que a vivir',\n",
       " 'Nadie es un candidato tan popular para el agravio como una víctima',\n",
       " 'La tristeza es vulgar si no es inmensa y esconde muchas veces un placer venenoso',\n",
       " 'No hay nada más bello que lo que nunca he tenido, nada más amado que lo que perdí.',\n",
       " 'Quizás lo que nos salva son los raros momentos en que no pasa nada.',\n",
       " 'Madrid me duele.',\n",
       " 'La cobardía se mide en ojalases..',\n",
       " '-\\xa0El sermón del predicador es la oración del necio',\n",
       " 'Lanzaré a tu noche oscura los dados de mis dudas',\n",
       " '¿Quién puede amar con la garganta rota?',\n",
       " 'En vez de pájaro en mano prefiero una gran desbandada en la cabeza',\n",
       " 'Te pido perdón por el daño que me hiciste.',\n",
       " 'Algo está roto si el odio une tanto.',\n",
       " 'Si el monstruo te da miedo ¿Por Qué le das de comer?',\n",
       " 'Cuídate del recuerdo.',\n",
       " 'O me paras los pies o esto se me va de las manos.',\n",
       " 'Pecas. En todas sus acepciones.']"
      ]
     },
     "execution_count": 6,
     "metadata": {},
     "output_type": "execute_result"
    }
   ],
   "source": [
    "versos_al_paso_sentiment[versos_al_paso_sentiment['sentiment'].eq('negative')].verso.tolist()"
   ]
  },
  {
   "cell_type": "code",
   "execution_count": 7,
   "id": "2687e2a3-ea16-4a74-aa40-d6297c49f6d0",
   "metadata": {},
   "outputs": [
    {
     "data": {
      "text/plain": [
       "<Axes: title={'center': 'Sentiments'}>"
      ]
     },
     "execution_count": 7,
     "metadata": {},
     "output_type": "execute_result"
    },
    {
     "data": {
      "image/png": "[encoded data removed]",
      "text/plain": [
       "<Figure size 600x600 with 1 Axes>"
      ]
     },
     "metadata": {},
     "output_type": "display_data"
    }
   ],
   "source": [
    "colors = ['#D23C69','#FFC850','#64DCA0']\n",
    "df.plot.pie(legend=True, title='Sentiments', autopct='%1.1f%%', colors=colors, ylabel='', labeldistance=None, figsize=(6, 6))"
   ]
  },
  {
   "cell_type": "markdown",
   "id": "a97348b3-5147-4bb8-bedf-f6f80b7cc231",
   "metadata": {},
   "source": [
    "**A chart by neighborhood**"
   ]
  },
  {
   "cell_type": "code",
   "execution_count": 8,
   "id": "de8cd6df-2c18-4442-a6ee-0255a274d0a9",
   "metadata": {},
   "outputs": [
    {
     "name": "stdout",
     "output_type": "stream",
     "text": [
      "There are 204 neighborhoods\n"
     ]
    }
   ],
   "source": [
    "no_of_neighborhoods = len(versos_al_paso_sentiment.barrio.unique())\n",
    "print(f'There are {no_of_neighborhoods} neighborhoods')"
   ]
  },
  {
   "cell_type": "markdown",
   "id": "00cf91e8-485a-41c5-9eea-1aaf6b8cd29a",
   "metadata": {},
   "source": [
    "It seems that a bar chart by district would be more interesting."
   ]
  },
  {
   "cell_type": "markdown",
   "id": "ab57d02f-3ce8-4218-ac9c-5358f75e509d",
   "metadata": {},
   "source": [
    "**A horizontal bar chart by district**\n",
    "\n",
    "The district data will be added using [Nominatim](https://nominatim.org/)'s free [reverse geocoding API](https://nominatim.org/release-docs/latest/api/Reverse/). This API generates an address from a latitude and longitude with the following data depending on the zoom value (default 18) in the request\n",
    "\n",
    "| zoom | address detail          |\n",
    "| ----:| ----------------------- |\n",
    "|    3 | country                 |\n",
    "|    5 | state                   |\n",
    "|    8 | county                  |\n",
    "|   10 | city                    |\n",
    "|   14 | suburb                  |\n",
    "|   16 | major streets           |\n",
    "|   17 | major and minor streets |\n",
    "|   18 | building                |\n",
    "\n",
    "For example, for the point"
   ]
  },
  {
   "cell_type": "code",
   "execution_count": 9,
   "id": "569e2835-eb8a-4f93-92f4-e5a2d39fcaab",
   "metadata": {},
   "outputs": [
    {
     "data": {
      "text/plain": [
       "Unnamed: 0                                                    0\n",
       "id                                                         1000\n",
       "latitud                                               40.425239\n",
       "longitud                                              -3.691217\n",
       "autor                                    ﻿Mario Vaillo de Mingo\n",
       "barrio                                                  ﻿CENTRO\n",
       "verso         Quizá el secreto de la vida tan solo consista ...\n",
       "direccion                          ﻿Calle de Génova-Plaza Colón\n",
       "sentiment                                              positive\n",
       "Name: 0, dtype: object"
      ]
     },
     "execution_count": 9,
     "metadata": {},
     "output_type": "execute_result"
    }
   ],
   "source": [
    "versos_al_paso_sentiment.iloc[0]"
   ]
  },
  {
   "cell_type": "markdown",
   "id": "9c6433ef-3d60-414d-a3f6-6dc00a99f2de",
   "metadata": {},
   "source": [
    "the request and answer will be\n",
    "\n",
    "```bash\n",
    "$ curl https://nominatim.openstreetmap.org/reverse\\?format\\=jsonv2\\&lat\\=40.4252387\\&lon\\=-3.6912172 | jq\n",
    "  % Total    % Received % Xferd  Average Speed   Time    Time     Time  Current\n",
    "                                 Dload  Upload   Total   Spent    Left  Speed\n",
    "100   765    0   765    0     0   1747      0 --:--:-- --:--:-- --:--:--  1746\n",
    "{\n",
    "  \"place_id\": 13807006,\n",
    "  \"licence\": \"Data © OpenStreetMap contributors, ODbL 1.0. https://osm.org/copyright\",\n",
    "  \"osm_type\": \"node\",\n",
    "  \"osm_id\": 1439704870,\n",
    "  \"lat\": \"40.4251606\",\n",
    "  \"lon\": \"-3.6912452\",\n",
    "  \"place_rank\": 30,\n",
    "  \"category\": \"highway\",\n",
    "  \"type\": \"bus_stop\",\n",
    "  \"importance\": 9.99999999995449e-06,\n",
    "  \"addresstype\": \"highway\",\n",
    "  \"name\": \"Metro Colón\",\n",
    "  \"display_name\": \"Metro Colón, Calle de Génova, Justicia, Chamberí, Centro, Madrid, Comunidad de Madrid, 28004, España\",\n",
    "  \"address\": {\n",
    "    \"highway\": \"Metro Colón\",\n",
    "    \"road\": \"Calle de Génova\",\n",
    "    \"quarter\": \"Justicia\",\n",
    "    \"suburb\": \"Chamberí\",\n",
    "    \"city_district\": \"Centro\",\n",
    "    \"city\": \"Madrid\",\n",
    "    \"state\": \"Comunidad de Madrid\",\n",
    "    \"ISO3166-2-lvl4\": \"ES-MD\",\n",
    "    \"postcode\": \"28004\",\n",
    "    \"country\": \"España\",\n",
    "    \"country_code\": \"es\"\n",
    "  },\n",
    "  \"boundingbox\": [\n",
    "    \"40.4251106\",\n",
    "    \"40.4252106\",\n",
    "    \"-3.6912952\",\n",
    "    \"-3.6911952\"\n",
    "  ]\n",
    "}\n",
    "```"
   ]
  },
  {
   "cell_type": "markdown",
   "id": "f6b786b6-5791-4833-ab50-1d6925b31556",
   "metadata": {},
   "source": [
    "Save a copy of sentiments with the new columns"
   ]
  },
  {
   "cell_type": "code",
   "execution_count": 14,
   "id": "e567d287-d8c6-4374-91ed-00f269aa140c",
   "metadata": {},
   "outputs": [
    {
     "data": {
      "text/plain": [
       "Index(['Unnamed: 0', 'id', 'latitud', 'longitud', 'autor', 'barrio', 'verso',\n",
       "       'direccion', 'sentiment', 'quarter', 'district', 'city'],\n",
       "      dtype='object')"
      ]
     },
     "execution_count": 14,
     "metadata": {},
     "output_type": "execute_result"
    }
   ],
   "source": [
    "versos_al_paso_geo = versos_al_paso_sentiment.copy()\n",
    "versos_al_paso_geo['quarter'] = ''\n",
    "versos_al_paso_geo['district'] = ''\n",
    "versos_al_paso_geo['city'] = ''\n",
    "\n",
    "versos_al_paso_geo_file_path = './output/versosalpaso_sentiment_text-davinci-003_geo.csv'\n",
    "versos_al_paso_geo.to_csv(versos_al_paso_geo_file_path, sep=';', encoding='utf-8')\n",
    "versos_al_paso_geo.columns"
   ]
  },
  {
   "cell_type": "markdown",
   "id": "5270f003-98d5-49c6-94fb-cf6805dd76c3",
   "metadata": {},
   "source": [
    "Let's collect the data"
   ]
  },
  {
   "cell_type": "code",
   "execution_count": 15,
   "id": "2298449a-2d85-4f94-ab75-707fb392ca7d",
   "metadata": {},
   "outputs": [
    {
     "name": "stdout",
     "output_type": "stream",
     "text": [
      "1099\r"
     ]
    }
   ],
   "source": [
    "import requests\n",
    "from requests.exceptions import ConnectTimeout\n",
    "import unittest\n",
    "\n",
    "for i in versos_al_paso_geo.index:\n",
    "    try:\n",
    "        print(i, end='\\r')\n",
    "\n",
    "        #if 0 < len(versos_al_paso_geo.at[i, 'district']): # for a re-excution case\n",
    "        #    continue\n",
    "\n",
    "        url = f'https://nominatim.openstreetmap.org/reverse?format=jsonv2&lat={versos_al_paso_geo.latitud[i]}&lon={versos_al_paso_geo.longitud[i]}'\n",
    "        res = requests.get(url, timeout=(0.1,1))\n",
    "\n",
    "        if res.ok:\n",
    "            json = res.json()\n",
    "            splitted_address = json['address']\n",
    "\n",
    "            if 'city' in splitted_address:\n",
    "                versos_al_paso_geo.at[i, 'city'] = splitted_address['city']\n",
    "            if 'quarter' in splitted_address:\n",
    "                versos_al_paso_geo.at[i, 'quarter'] = splitted_address['quarter']\n",
    "            if 'city_district' in splitted_address:\n",
    "                versos_al_paso_geo.at[i, 'district'] = splitted_address['city_district']\n",
    "            else:\n",
    "                versos_al_paso_geo.at[i, 'district'] = splitted_address['suburb']\n",
    "\n",
    "    except ConnectTimeout:\n",
    "        print(f'#{i} Request \"{url}\" has timed out\\n')\n",
    "    \n",
    "    except Exception as e:\n",
    "        print(f'#{i} An exception occurred: {str(e)}\\n')\n",
    "\n",
    "tc = unittest.TestCase()\n",
    "empty_rows = len(versos_al_paso_geo[versos_al_paso_geo.district.eq('')].district.tolist())\n",
    "tc.assertEqual(0, empty_rows)"
   ]
  },
  {
   "cell_type": "markdown",
   "id": "1437b72c-b9dd-4420-b47a-27f7f919b8cb",
   "metadata": {},
   "source": [
    "Save full information"
   ]
  },
  {
   "cell_type": "code",
   "execution_count": 16,
   "id": "f0866254-5708-4e2f-8897-70bd1cb4b724",
   "metadata": {},
   "outputs": [],
   "source": [
    "versos_al_paso_geo.to_csv(versos_al_paso_geo_file_path, sep=';', encoding='utf-8')"
   ]
  },
  {
   "cell_type": "markdown",
   "id": "ef683d45-a914-4a29-b674-ee283e78eb0d",
   "metadata": {},
   "source": [
    "Changing district value 'Villaverde Alto, Casco Histórico de Villaverde' to 'Villaverde' was necessary"
   ]
  },
  {
   "cell_type": "code",
   "execution_count": 17,
   "id": "5ed4a4b1-d3e3-4793-8d1c-892d88ba7c4f",
   "metadata": {},
   "outputs": [
    {
     "data": {
      "text/plain": [
       "array(['Centro', 'Moratalaz', 'Latina', 'Villaverde', 'Salamanca',\n",
       "       'Ciudad Lineal', 'Tetuán', 'Hortaleza', 'Retiro',\n",
       "       'Fuencarral-El Pardo', 'Chamartín', 'Moncloa-Aravaca', 'Chamberí',\n",
       "       'San Blas - Canillejas', 'Arganzuela', 'Carabanchel',\n",
       "       'Puente de Vallecas', 'Usera', 'Villa de Vallecas', 'Vicálvaro',\n",
       "       'Barajas'], dtype=object)"
      ]
     },
     "execution_count": 17,
     "metadata": {},
     "output_type": "execute_result"
    }
   ],
   "source": [
    "versos_al_paso_geo = pd.read_csv(versos_al_paso_geo_file_path, sep=';', encoding='utf-8')\n",
    "versos_al_paso_geo.district.unique()"
   ]
  },
  {
   "cell_type": "code",
   "execution_count": 18,
   "id": "9873849d-4775-4ea0-addc-86b46e30911b",
   "metadata": {},
   "outputs": [
    {
     "name": "stdout",
     "output_type": "stream",
     "text": [
      "There are 21 districts\n"
     ]
    }
   ],
   "source": [
    "no_of_districts = len(versos_al_paso_geo.district.unique())\n",
    "print(f'There are {no_of_districts} districts')"
   ]
  },
  {
   "cell_type": "code",
   "execution_count": 19,
   "id": "f37e6a17-45dd-430b-b1fb-c2f83439e554",
   "metadata": {},
   "outputs": [
    {
     "data": {
      "text/plain": [
       "district\n",
       "Arganzuela               53\n",
       "Barajas                  11\n",
       "Carabanchel              81\n",
       "Centro                   70\n",
       "Chamartín                75\n",
       "Chamberí                 64\n",
       "Ciudad Lineal            78\n",
       "Fuencarral-El Pardo      65\n",
       "Hortaleza                56\n",
       "Latina                   75\n",
       "Moncloa-Aravaca          63\n",
       "Moratalaz                31\n",
       "Puente de Vallecas       58\n",
       "Retiro                   47\n",
       "Salamanca                63\n",
       "San Blas - Canillejas    53\n",
       "Tetuán                   43\n",
       "Usera                    46\n",
       "Vicálvaro                23\n",
       "Villa de Vallecas        12\n",
       "Villaverde               33\n",
       "Name: district, dtype: int64"
      ]
     },
     "execution_count": 19,
     "metadata": {},
     "output_type": "execute_result"
    }
   ],
   "source": [
    "versos_al_paso_geo.groupby(['district'])['district'].count()"
   ]
  },
  {
   "cell_type": "code",
   "execution_count": 21,
   "id": "62cb2a38-1408-490a-90d9-608e8d230978",
   "metadata": {},
   "outputs": [
    {
     "data": {
      "text/html": [
       "<div>\n",
       "<style scoped>\n",
       "    .dataframe tbody tr th:only-of-type {\n",
       "        vertical-align: middle;\n",
       "    }\n",
       "\n",
       "    .dataframe tbody tr th {\n",
       "        vertical-align: top;\n",
       "    }\n",
       "\n",
       "    .dataframe thead th {\n",
       "        text-align: right;\n",
       "    }\n",
       "</style>\n",
       "<table border=\"1\" class=\"dataframe\">\n",
       "  <thead>\n",
       "    <tr style=\"text-align: right;\">\n",
       "      <th>sentiment</th>\n",
       "      <th>negative</th>\n",
       "      <th>neutral</th>\n",
       "      <th>positive</th>\n",
       "    </tr>\n",
       "    <tr>\n",
       "      <th>district</th>\n",
       "      <th></th>\n",
       "      <th></th>\n",
       "      <th></th>\n",
       "    </tr>\n",
       "  </thead>\n",
       "  <tbody>\n",
       "    <tr>\n",
       "      <th>Arganzuela</th>\n",
       "      <td>1</td>\n",
       "      <td>4</td>\n",
       "      <td>48</td>\n",
       "    </tr>\n",
       "    <tr>\n",
       "      <th>Barajas</th>\n",
       "      <td>0</td>\n",
       "      <td>0</td>\n",
       "      <td>11</td>\n",
       "    </tr>\n",
       "    <tr>\n",
       "      <th>Carabanchel</th>\n",
       "      <td>2</td>\n",
       "      <td>7</td>\n",
       "      <td>72</td>\n",
       "    </tr>\n",
       "    <tr>\n",
       "      <th>Centro</th>\n",
       "      <td>1</td>\n",
       "      <td>2</td>\n",
       "      <td>67</td>\n",
       "    </tr>\n",
       "    <tr>\n",
       "      <th>Chamartín</th>\n",
       "      <td>0</td>\n",
       "      <td>4</td>\n",
       "      <td>71</td>\n",
       "    </tr>\n",
       "    <tr>\n",
       "      <th>Chamberí</th>\n",
       "      <td>1</td>\n",
       "      <td>0</td>\n",
       "      <td>63</td>\n",
       "    </tr>\n",
       "    <tr>\n",
       "      <th>Ciudad Lineal</th>\n",
       "      <td>0</td>\n",
       "      <td>1</td>\n",
       "      <td>77</td>\n",
       "    </tr>\n",
       "    <tr>\n",
       "      <th>Fuencarral-El Pardo</th>\n",
       "      <td>2</td>\n",
       "      <td>4</td>\n",
       "      <td>59</td>\n",
       "    </tr>\n",
       "    <tr>\n",
       "      <th>Hortaleza</th>\n",
       "      <td>0</td>\n",
       "      <td>5</td>\n",
       "      <td>51</td>\n",
       "    </tr>\n",
       "    <tr>\n",
       "      <th>Latina</th>\n",
       "      <td>1</td>\n",
       "      <td>7</td>\n",
       "      <td>67</td>\n",
       "    </tr>\n",
       "    <tr>\n",
       "      <th>Moncloa-Aravaca</th>\n",
       "      <td>3</td>\n",
       "      <td>2</td>\n",
       "      <td>58</td>\n",
       "    </tr>\n",
       "    <tr>\n",
       "      <th>Moratalaz</th>\n",
       "      <td>0</td>\n",
       "      <td>1</td>\n",
       "      <td>30</td>\n",
       "    </tr>\n",
       "    <tr>\n",
       "      <th>Puente de Vallecas</th>\n",
       "      <td>0</td>\n",
       "      <td>5</td>\n",
       "      <td>53</td>\n",
       "    </tr>\n",
       "    <tr>\n",
       "      <th>Retiro</th>\n",
       "      <td>1</td>\n",
       "      <td>1</td>\n",
       "      <td>45</td>\n",
       "    </tr>\n",
       "    <tr>\n",
       "      <th>Salamanca</th>\n",
       "      <td>1</td>\n",
       "      <td>3</td>\n",
       "      <td>59</td>\n",
       "    </tr>\n",
       "    <tr>\n",
       "      <th>San Blas - Canillejas</th>\n",
       "      <td>1</td>\n",
       "      <td>1</td>\n",
       "      <td>51</td>\n",
       "    </tr>\n",
       "    <tr>\n",
       "      <th>Tetuán</th>\n",
       "      <td>2</td>\n",
       "      <td>2</td>\n",
       "      <td>39</td>\n",
       "    </tr>\n",
       "    <tr>\n",
       "      <th>Usera</th>\n",
       "      <td>0</td>\n",
       "      <td>4</td>\n",
       "      <td>42</td>\n",
       "    </tr>\n",
       "    <tr>\n",
       "      <th>Vicálvaro</th>\n",
       "      <td>0</td>\n",
       "      <td>1</td>\n",
       "      <td>22</td>\n",
       "    </tr>\n",
       "    <tr>\n",
       "      <th>Villa de Vallecas</th>\n",
       "      <td>1</td>\n",
       "      <td>0</td>\n",
       "      <td>11</td>\n",
       "    </tr>\n",
       "    <tr>\n",
       "      <th>Villaverde</th>\n",
       "      <td>1</td>\n",
       "      <td>2</td>\n",
       "      <td>30</td>\n",
       "    </tr>\n",
       "  </tbody>\n",
       "</table>\n",
       "</div>"
      ],
      "text/plain": [
       "sentiment              negative  neutral  positive\n",
       "district                                          \n",
       "Arganzuela                    1        4        48\n",
       "Barajas                       0        0        11\n",
       "Carabanchel                   2        7        72\n",
       "Centro                        1        2        67\n",
       "Chamartín                     0        4        71\n",
       "Chamberí                      1        0        63\n",
       "Ciudad Lineal                 0        1        77\n",
       "Fuencarral-El Pardo           2        4        59\n",
       "Hortaleza                     0        5        51\n",
       "Latina                        1        7        67\n",
       "Moncloa-Aravaca               3        2        58\n",
       "Moratalaz                     0        1        30\n",
       "Puente de Vallecas            0        5        53\n",
       "Retiro                        1        1        45\n",
       "Salamanca                     1        3        59\n",
       "San Blas - Canillejas         1        1        51\n",
       "Tetuán                        2        2        39\n",
       "Usera                         0        4        42\n",
       "Vicálvaro                     0        1        22\n",
       "Villa de Vallecas             1        0        11\n",
       "Villaverde                    1        2        30"
      ]
     },
     "execution_count": 21,
     "metadata": {},
     "output_type": "execute_result"
    }
   ],
   "source": [
    "table_by_barrio = pd.pivot_table(versos_al_paso_geo[['district', 'sentiment']], index='district', columns='sentiment', aggfunc=len, fill_value=0)\n",
    "table_by_barrio"
   ]
  },
  {
   "cell_type": "code",
   "execution_count": 22,
   "id": "1dfa88b9-bd73-46e7-ac92-58f493cbdafa",
   "metadata": {},
   "outputs": [
    {
     "data": {
      "image/png": "[encoded data removed]",
      "text/plain": [
       "<Figure size 800x1400 with 1 Axes>"
      ]
     },
     "metadata": {},
     "output_type": "display_data"
    }
   ],
   "source": [
    "import matplotlib.pyplot as plt\n",
    "\n",
    "colors = {'negative': '#D23C69', 'neutral': '#FFC850', 'positive': '#64DCA0'}\n",
    "ax = table_by_barrio.plot.barh(color=colors, title='Sentiments by district', figsize=(8, 14), grid=True, stacked=True)\n",
    "ax.invert_yaxis()\n",
    "ax.grid(axis='y')"
   ]
  }
 ],
 "metadata": {
  "kernelspec": {
   "display_name": "Python 3 (ipykernel)",
   "language": "python",
   "name": "python3"
  },
  "language_info": {
   "codemirror_mode": {
    "name": "ipython",
    "version": 3
   },
   "file_extension": ".py",
   "mimetype": "text/x-python",
   "name": "python",
   "nbconvert_exporter": "python",
   "pygments_lexer": "ipython3",
   "version": "3.11.4"
  }
 },
 "nbformat": 4,
 "nbformat_minor": 5
}
