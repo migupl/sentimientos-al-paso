{
 "cells": [
  {
   "cell_type": "markdown",
   "id": "02a93f8b-b094-4a40-8d0a-d314b9c31000",
   "metadata": {},
   "source": [
    "**Iterative Prompt**\n",
    "\n",
    "We will iteratively analyse and refine our prompt to generate a classification of Spanish sentences by their associated sentiment.\n",
    "\n",
    "The OpenAI Chat-GPT conversational API will be used for this purpose.\n",
    "\n",
    "**Setup**\n"
   ]
  },
  {
   "cell_type": "code",
   "execution_count": null,
   "id": "4b9d4eee-b98f-487c-a932-1e48f6c5e207",
   "metadata": {},
   "outputs": [],
   "source": [
    "!pip install openai"
   ]
  },
  {
   "cell_type": "code",
   "execution_count": null,
   "id": "24acd91f-554f-4051-a27a-1bd9502b5ee9",
   "metadata": {},
   "outputs": [],
   "source": [
    "!pip install python-dotenv"
   ]
  },
  {
   "cell_type": "markdown",
   "id": "5035b7ee-b905-49fe-a522-f4b64c28ecae",
   "metadata": {},
   "source": [
    " Read the secrect"
   ]
  },
  {
   "cell_type": "code",
   "execution_count": 3,
   "id": "5506952e-cb7e-4328-a812-748210ea302a",
   "metadata": {},
   "outputs": [],
   "source": [
    "import openai\n",
    "import os\n",
    "\n",
    "from dotenv import load_dotenv, find_dotenv\n",
    "_ = load_dotenv(find_dotenv()) # read local .env file\n",
    "\n",
    "openai.api_key  = os.getenv('OPENAI_API_KEY')"
   ]
  },
  {
   "cell_type": "markdown",
   "id": "9d11ab17-8d20-4310-b951-0879c4b09d24",
   "metadata": {},
   "source": [
    "Define function for Chat-GPT interaction"
   ]
  },
  {
   "cell_type": "code",
   "execution_count": 4,
   "id": "d263b32e-3fe1-459f-bbe1-3f6660eeaf37",
   "metadata": {},
   "outputs": [],
   "source": [
    "def get_chat_completion(prompt, model=\"gpt-3.5-turbo\"):\n",
    "    messages = [{\"role\": \"user\", \"content\": prompt}]\n",
    "    response = openai.ChatCompletion.create(\n",
    "        model=model,\n",
    "        messages=messages,\n",
    "        temperature=0\n",
    "    )\n",
    "    return response.choices[0].message[\"content\"]"
   ]
  },
  {
   "cell_type": "markdown",
   "id": "5a5d5f33-629f-4149-af6f-3f439e9c0a8c",
   "metadata": {},
   "source": [
    "**Sentiment** (positive/neutral/negative)"
   ]
  },
  {
   "cell_type": "code",
   "execution_count": 5,
   "id": "f9a59420-c778-4443-a923-ac02853771fd",
   "metadata": {},
   "outputs": [],
   "source": [
    "spanish_sentences = [\n",
    "    'Quizá el secreto de la vida tan solo consista En tener un lugar al que regresar',\n",
    "    'Entre tu cuerpo y el mío solo cabe un verso',\n",
    "    'El hombre es un ser irracional que se pasa toda la vida disimulándolo'\n",
    "]"
   ]
  },
  {
   "cell_type": "code",
   "execution_count": 6,
   "id": "1c698cd5-6e41-4bac-8fd1-93551ed4f6db",
   "metadata": {},
   "outputs": [
    {
     "name": "stdout",
     "output_type": "stream",
     "text": [
      "The sentiment of the following Spanish sentence is positive.\n"
     ]
    }
   ],
   "source": [
    "prompt = f\"\"\"\n",
    "What is the sentiment of the following Spanish sentence, \n",
    "which is delimited with triple backticks?\n",
    "\n",
    "Review text: '''{spanish_sentences[0]}'''\n",
    "\"\"\"\n",
    "response = get_chat_completion(prompt)\n",
    "print(response)"
   ]
  },
  {
   "cell_type": "code",
   "execution_count": 7,
   "id": "a682d621-e21a-4dd3-bef7-1bec8b74fc46",
   "metadata": {},
   "outputs": [
    {
     "name": "stdout",
     "output_type": "stream",
     "text": [
      "positive\n"
     ]
    }
   ],
   "source": [
    "prompt = f\"\"\"\n",
    "What is the sentiment of the following Spanish sentence,\n",
    "which is delimited with triple backticks?\n",
    "\n",
    "Give your answer as a single word, either \"positive\" or \"netural\" \\\n",
    "or \"negative\".\n",
    "\n",
    "Review text: '''{spanish_sentences[0]}'''\n",
    "\"\"\"\n",
    "response = get_chat_completion(prompt)\n",
    "print(response)"
   ]
  },
  {
   "cell_type": "code",
   "execution_count": null,
   "id": "26d59697-5638-46c1-85ed-e9a82d91fa36",
   "metadata": {},
   "outputs": [],
   "source": [
    "prompt = f\"\"\"\n",
    "What is the sentiment of the following Spanish sentences,\n",
    "which is delimited with triple backticks?\n",
    "\n",
    "Give your answer as a map of sentences grouped by their sentiment as a single word, \\\n",
    "either \"positive\" or \"neutral\" or \"negative\".\n",
    "\n",
    "Review text: '''{spanish_sentences}'''\n",
    "\"\"\"\n",
    "response = get_chat_completion(prompt)\n",
    "print(response)\n"
   ]
  },
  {
   "cell_type": "markdown",
   "id": "691eeb2b-7d75-49db-8043-d5540b18504b",
   "metadata": {},
   "source": [
    "[\n",
    "    'Quizá el secreto de la vida tan solo consista En tener un lugar al que regresar', 'positive'\n",
    "    'Entre tu cuerpo y el mío solo cabe un verso', 'positive'\n",
    "    'El hombre es un ser irracional que se pasa toda la vida disimulándolo', 'neutral'\n",
    "]"
   ]
  },
  {
   "cell_type": "code",
   "execution_count": 11,
   "id": "13e7c1ef-7a0b-4290-b603-d479c6bdf46f",
   "metadata": {},
   "outputs": [
    {
     "name": "stdout",
     "output_type": "stream",
     "text": [
      "{\n",
      "  \"positive\": [\n",
      "    \"Quizá el secreto de la vida tan solo consista En tener un lugar al que regresar\",\n",
      "    \"Entre tu cuerpo y el mío solo cabe un verso\"\n",
      "  ],\n",
      "  \"neutral\": [\n",
      "    \"El hombre es un ser irracional que se pasa toda la vida disimulándolo\"\n",
      "  ]\n",
      "}\n"
     ]
    }
   ],
   "source": [
    "prompt = f\"\"\"\n",
    "What is the sentiment of the following Spanish sentences,\n",
    "which is delimited with triple backticks?\n",
    "\n",
    "Classify sentences according to their sentiment.\n",
    "\n",
    "The sentiment will be as a single word, \\\n",
    "either \"positive\" or \"neutral\" or \"negative\".\n",
    "\n",
    "Give your answer as JSON, where the key is the sentiment and the value is the list.\n",
    "\n",
    "Review text: '''{spanish_sentences}'''\n",
    "\"\"\"\n",
    "response = get_chat_completion(prompt)\n",
    "print(response)"
   ]
  },
  {
   "cell_type": "markdown",
   "id": "400d3bed-2499-42aa-b239-e43089210e57",
   "metadata": {},
   "source": [
    "**Using Completions** instead of ChatCompletion\n",
    "\n",
    "The Completion API does not support the 'gpt-3.5-turbo' conversational model. The '**text-davinci-003**' model will be used instead.\n",
    "\n",
    "Let's do a test"
   ]
  },
  {
   "cell_type": "code",
   "execution_count": 12,
   "id": "0e7bcd5b-68ab-447b-8c35-018ac0b3edfe",
   "metadata": {},
   "outputs": [],
   "source": [
    "def get_completion(prompt, model=\"text-davinci-003\"):\n",
    "    response = openai.Completion.create(\n",
    "        model=model,\n",
    "        prompt=prompt,\n",
    "        temperature=0,\n",
    "        max_tokens=2000\n",
    "    )\n",
    "    return response.choices[0].text"
   ]
  },
  {
   "cell_type": "code",
   "execution_count": 13,
   "id": "67fc67e4-77e3-4e92-b530-0f00af3234ca",
   "metadata": {},
   "outputs": [
    {
     "name": "stdout",
     "output_type": "stream",
     "text": [
      "\n",
      "{\"positive\": [\"Quizá el secreto de la vida tan solo consista En tener un lugar al que regresar\", \"Entre tu cuerpo y el mío solo cabe un verso\"], \"neutral\": [\"El hombre es un ser irracional que se pasa toda la vida disimulándolo\"]}\n"
     ]
    }
   ],
   "source": [
    "prompt = f\"\"\"\n",
    "What is the sentiment of the following Spanish sentences,\n",
    "which is delimited with triple backticks?\n",
    "\n",
    "Classify sentences according to their sentiment.\n",
    "\n",
    "The sentiment will be as a single word, \\\n",
    "either \"positive\" or \"neutral\" or \"negative\".\n",
    "\n",
    "Give your answer as JSON, where the key is the sentiment and the value is the list.\n",
    "\n",
    "Review text: '''{spanish_sentences}'''\n",
    "\"\"\"\n",
    "response = get_completion(prompt)\n",
    "print(response)"
   ]
  },
  {
   "cell_type": "markdown",
   "id": "a9ef4d69-0e2a-4d21-8ecf-36fe90de8f08",
   "metadata": {},
   "source": [
    "---\n",
    "\n",
    "Inspired by the one hourly course [ChatGPT Prompt Engineering for Developers](https://www.deeplearning.ai/short-courses/chatgpt-prompt-engineering-for-developers/) by DeepLearning.AI"
   ]
  }
 ],
 "metadata": {
  "kernelspec": {
   "display_name": "Python 3 (ipykernel)",
   "language": "python",
   "name": "python3"
  },
  "language_info": {
   "codemirror_mode": {
    "name": "ipython",
    "version": 3
   },
   "file_extension": ".py",
   "mimetype": "text/x-python",
   "name": "python",
   "nbconvert_exporter": "python",
   "pygments_lexer": "ipython3",
   "version": "3.11.4"
  }
 },
 "nbformat": 4,
 "nbformat_minor": 5
}
